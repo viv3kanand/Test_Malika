{
  "nbformat": 4,
  "nbformat_minor": 5,
  "metadata": {
    "kernelspec": {
      "display_name": "Python 3",
      "language": "python",
      "name": "python3"
    },
    "language_info": {
      "codemirror_mode": {
        "name": "ipython",
        "version": 3
      },
      "file_extension": ".py",
      "mimetype": "text/x-python",
      "name": "python",
      "nbconvert_exporter": "python",
      "pygments_lexer": "ipython3",
      "version": "3.7.8"
    },
    "colab": {
      "name": "Malika_prody.ipynb",
      "provenance": [],
      "collapsed_sections": [],
      "include_colab_link": true
    }
  },
  "cells": [
    {
      "cell_type": "markdown",
      "metadata": {
        "id": "view-in-github",
        "colab_type": "text"
      },
      "source": [
        "<a href=\"https://colab.research.google.com/github/viv3kanand/Test_Malika/blob/main/Malika_prody.ipynb\" target=\"_parent\"><img src=\"https://colab.research.google.com/assets/colab-badge.svg\" alt=\"Open In Colab\"/></a>"
      ]
    },
    {
      "cell_type": "code",
      "metadata": {
        "id": "mineral-customer",
        "outputId": "feaa3da4-7be3-4dde-c8b6-e5d25603ab9b"
      },
      "source": [
        "!pip install -U ProDy"
      ],
      "id": "mineral-customer",
      "execution_count": null,
      "outputs": [
        {
          "output_type": "stream",
          "text": [
            "Requirement already satisfied: ProDy in /staging/source/anaconda3/lib/python3.7/site-packages (2.0)\n",
            "Requirement already satisfied: scipy in /staging/source/anaconda3/lib/python3.7/site-packages (from ProDy) (1.5.3)\n",
            "Requirement already satisfied: pyparsing in /staging/source/anaconda3/lib/python3.7/site-packages (from ProDy) (2.4.7)\n",
            "Requirement already satisfied: biopython in /staging/source/anaconda3/lib/python3.7/site-packages (from ProDy) (1.78)\n",
            "Requirement already satisfied: numpy>=1.10 in /staging/source/anaconda3/lib/python3.7/site-packages (from ProDy) (1.20.1)\n",
            "\u001b[33mWARNING: Running pip as root will break packages and permissions. You should install packages reliably by using venv: https://pip.pypa.io/warnings/venv\u001b[0m\n",
            "Collecting stride\n",
            "  Downloading stride-0.1.6.tar.gz (7.5 kB)\n",
            "Requirement already satisfied: requests>=2.6.1 in /staging/source/anaconda3/lib/python3.7/site-packages (from stride) (2.25.1)\n",
            "Requirement already satisfied: chardet<5,>=3.0.2 in /staging/source/anaconda3/lib/python3.7/site-packages (from requests>=2.6.1->stride) (4.0.0)\n",
            "Requirement already satisfied: urllib3<1.27,>=1.21.1 in /staging/source/anaconda3/lib/python3.7/site-packages (from requests>=2.6.1->stride) (1.26.3)\n",
            "Requirement already satisfied: idna<3,>=2.5 in /staging/source/anaconda3/lib/python3.7/site-packages (from requests>=2.6.1->stride) (2.10)\n",
            "Requirement already satisfied: certifi>=2017.4.17 in /staging/source/anaconda3/lib/python3.7/site-packages (from requests>=2.6.1->stride) (2020.12.5)\n",
            "Building wheels for collected packages: stride\n",
            "  Building wheel for stride (setup.py) ... \u001b[?25ldone\n",
            "\u001b[?25h  Created wheel for stride: filename=stride-0.1.6-py3-none-any.whl size=8203 sha256=fdbd051874686062a1c9b0dfbca4fd2b7a21cbbfe720c022efba5294f5981fcb\n",
            "  Stored in directory: /root/.cache/pip/wheels/2a/cc/8c/c8ac3e6f3d25c0c756978dc6d1390ef27df061a87930aabbc1\n",
            "Successfully built stride\n",
            "Installing collected packages: stride\n",
            "Successfully installed stride-0.1.6\n",
            "\u001b[33mWARNING: Running pip as root will break packages and permissions. You should install packages reliably by using venv: https://pip.pypa.io/warnings/venv\u001b[0m\n"
          ],
          "name": "stdout"
        }
      ]
    },
    {
      "cell_type": "code",
      "metadata": {
        "id": "starting-camcorder",
        "outputId": "d92e8bbc-1ee4-4f3c-a0c8-bdaf3ff8318c"
      },
      "source": [
        "conda install -y -c bioconda stride"
      ],
      "id": "starting-camcorder",
      "execution_count": null,
      "outputs": [
        {
          "output_type": "stream",
          "text": [
            "Collecting package metadata (current_repodata.json): done\n",
            "Solving environment: done\n",
            "\n",
            "## Package Plan ##\n",
            "\n",
            "  environment location: /staging/source/anaconda3\n",
            "\n",
            "  added / updated specs:\n",
            "    - stride\n",
            "\n",
            "\n",
            "The following packages will be downloaded:\n",
            "\n",
            "    package                    |            build\n",
            "    ---------------------------|-----------------\n",
            "    ca-certificates-2021.5.30  |       ha878542_0         136 KB  conda-forge\n",
            "    certifi-2021.5.30          |   py37h89c1867_0         141 KB  conda-forge\n",
            "    stride-1.0                 |       h8b12597_5         422 KB  bioconda\n",
            "    ------------------------------------------------------------\n",
            "                                           Total:         699 KB\n",
            "\n",
            "The following NEW packages will be INSTALLED:\n",
            "\n",
            "  stride             bioconda/linux-64::stride-1.0-h8b12597_5\n",
            "\n",
            "The following packages will be UPDATED:\n",
            "\n",
            "  ca-certificates                      2020.12.5-ha878542_0 --> 2021.5.30-ha878542_0\n",
            "  certifi                          2020.12.5-py37h89c1867_1 --> 2021.5.30-py37h89c1867_0\n",
            "\n",
            "\n",
            "\n",
            "Downloading and Extracting Packages\n",
            "stride-1.0           | 422 KB    | ##################################### | 100% \n",
            "ca-certificates-2021 | 136 KB    | ##################################### | 100% \n",
            "certifi-2021.5.30    | 141 KB    | ##################################### | 100% \n",
            "Preparing transaction: done\n",
            "Verifying transaction: done\n",
            "Executing transaction: done\n",
            "\n",
            "Note: you may need to restart the kernel to use updated packages.\n"
          ],
          "name": "stdout"
        }
      ]
    },
    {
      "cell_type": "code",
      "metadata": {
        "id": "cubic-institute",
        "outputId": "bccc05a2-6d3b-4696-83ac-100c68a33589"
      },
      "source": [
        "!which stride"
      ],
      "id": "cubic-institute",
      "execution_count": null,
      "outputs": [
        {
          "output_type": "stream",
          "text": [
            "/staging/source/anaconda3/bin/stride\n"
          ],
          "name": "stdout"
        }
      ]
    },
    {
      "cell_type": "code",
      "metadata": {
        "id": "tested-still"
      },
      "source": [
        "from prody import *"
      ],
      "id": "tested-still",
      "execution_count": null,
      "outputs": []
    },
    {
      "cell_type": "code",
      "metadata": {
        "id": "square-upper",
        "outputId": "c381e190-0bc3-48c3-9fb3-0ee6ff7aa1d9"
      },
      "source": [
        "execSTRIDE('1p38')"
      ],
      "id": "square-upper",
      "execution_count": null,
      "outputs": [
        {
          "output_type": "stream",
          "text": [
            "@> Connecting wwPDB FTP server RCSB PDB (USA).\n",
            "@> pdb1p38.ent.gz download failed. 1p38 does not exist on ftp.wwpdb.org.\n",
            "@> PDB download via FTP completed (0 downloaded, 1 failed).\n",
            "@> Downloading PDB files via FTP failed, trying HTTP.\n",
            "@> 1p38 downloaded (1p38.pdb)\n",
            "@> PDB download via HTTP completed (1 downloaded, 0 failed).\n"
          ],
          "name": "stderr"
        }
      ]
    }
  ]
}